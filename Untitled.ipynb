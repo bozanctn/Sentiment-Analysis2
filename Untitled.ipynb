{
 "cells": [
  {
   "cell_type": "code",
   "execution_count": 4,
   "id": "ad76d17a-6f8d-4f82-9410-26b833ac246b",
   "metadata": {},
   "outputs": [],
   "source": [
    "import nltk.classify.util\n",
    "from nltk.classify import NaiveBayesClassifier\n",
    "from nltk.corpus import names\n",
    "import random\n",
    "import pandas as pd \n"
   ]
  },
  {
   "cell_type": "code",
   "execution_count": 5,
   "id": "73c9d56e-b27a-4330-9dda-cdc4b0518344",
   "metadata": {},
   "outputs": [
    {
     "data": {
      "text/html": [
       "<div>\n",
       "<style scoped>\n",
       "    .dataframe tbody tr th:only-of-type {\n",
       "        vertical-align: middle;\n",
       "    }\n",
       "\n",
       "    .dataframe tbody tr th {\n",
       "        vertical-align: top;\n",
       "    }\n",
       "\n",
       "    .dataframe thead th {\n",
       "        text-align: right;\n",
       "    }\n",
       "</style>\n",
       "<table border=\"1\" class=\"dataframe\">\n",
       "  <thead>\n",
       "    <tr style=\"text-align: right;\">\n",
       "      <th></th>\n",
       "      <th>Unnamed: 0</th>\n",
       "      <th>rating</th>\n",
       "      <th>review</th>\n",
       "    </tr>\n",
       "  </thead>\n",
       "  <tbody>\n",
       "    <tr>\n",
       "      <th>0</th>\n",
       "      <td>0</td>\n",
       "      <td>1</td>\n",
       "      <td>wireless gaming headset  gaming headset ticks ...</td>\n",
       "    </tr>\n",
       "    <tr>\n",
       "      <th>1</th>\n",
       "      <td>1</td>\n",
       "      <td>0</td>\n",
       "      <td>good big head low budget easy setup rated 6 ho...</td>\n",
       "    </tr>\n",
       "    <tr>\n",
       "      <th>2</th>\n",
       "      <td>2</td>\n",
       "      <td>1</td>\n",
       "      <td>mezumiwireless gaming headset originally bough...</td>\n",
       "    </tr>\n",
       "    <tr>\n",
       "      <th>3</th>\n",
       "      <td>3</td>\n",
       "      <td>1</td>\n",
       "      <td>hw s2 great headset 2nd mezumi headset kills f...</td>\n",
       "    </tr>\n",
       "    <tr>\n",
       "      <th>4</th>\n",
       "      <td>4</td>\n",
       "      <td>1</td>\n",
       "      <td>best headphones ive purchased entire life prob...</td>\n",
       "    </tr>\n",
       "    <tr>\n",
       "      <th>...</th>\n",
       "      <td>...</td>\n",
       "      <td>...</td>\n",
       "      <td>...</td>\n",
       "    </tr>\n",
       "    <tr>\n",
       "      <th>45747</th>\n",
       "      <td>45747</td>\n",
       "      <td>0</td>\n",
       "      <td>utensil holder reasonably priced little flimsy</td>\n",
       "    </tr>\n",
       "    <tr>\n",
       "      <th>45748</th>\n",
       "      <td>45748</td>\n",
       "      <td>1</td>\n",
       "      <td>recommended described</td>\n",
       "    </tr>\n",
       "    <tr>\n",
       "      <th>45749</th>\n",
       "      <td>45749</td>\n",
       "      <td>-1</td>\n",
       "      <td>cheap looking cheap looking</td>\n",
       "    </tr>\n",
       "    <tr>\n",
       "      <th>45750</th>\n",
       "      <td>45750</td>\n",
       "      <td>1</td>\n",
       "      <td>ok okay</td>\n",
       "    </tr>\n",
       "    <tr>\n",
       "      <th>45751</th>\n",
       "      <td>45751</td>\n",
       "      <td>1</td>\n",
       "      <td>cooking utensils goodg</td>\n",
       "    </tr>\n",
       "  </tbody>\n",
       "</table>\n",
       "<p>45752 rows × 3 columns</p>\n",
       "</div>"
      ],
      "text/plain": [
       "       Unnamed: 0  rating                                             review\n",
       "0               0       1  wireless gaming headset  gaming headset ticks ...\n",
       "1               1       0  good big head low budget easy setup rated 6 ho...\n",
       "2               2       1  mezumiwireless gaming headset originally bough...\n",
       "3               3       1  hw s2 great headset 2nd mezumi headset kills f...\n",
       "4               4       1  best headphones ive purchased entire life prob...\n",
       "...           ...     ...                                                ...\n",
       "45747       45747       0     utensil holder reasonably priced little flimsy\n",
       "45748       45748       1                              recommended described\n",
       "45749       45749      -1                        cheap looking cheap looking\n",
       "45750       45750       1                                            ok okay\n",
       "45751       45751       1                             cooking utensils goodg\n",
       "\n",
       "[45752 rows x 3 columns]"
      ]
     },
     "execution_count": 5,
     "metadata": {},
     "output_type": "execute_result"
    }
   ],
   "source": [
    "df = pd.read_csv(\"ebay_reviews_cleaned.csv\")\n",
    "df"
   ]
  },
  {
   "cell_type": "code",
   "execution_count": 6,
   "id": "49443fe2-fadd-4c62-b0c9-81e19a84ab13",
   "metadata": {},
   "outputs": [],
   "source": [
    "positive_vocab = [ 'excellent', 'amazing', 'enjoyed', 'oscar', 'outstanding', 'engrossing','funny','intense',\"good\",\"best\",\"great\"]\n",
    "negative_vocab = [ 'worst', 'boring', 'cheap', 'bad']\n",
    "neutral_vocab = [\"ok\", \"okay\"]"
   ]
  },
  {
   "cell_type": "code",
   "execution_count": 7,
   "id": "e5f2e52a-b600-4de2-ade2-43a4b1dee910",
   "metadata": {},
   "outputs": [],
   "source": [
    "def word_feats(words):\n",
    "    return dict([(word, True) for word in words])\n"
   ]
  },
  {
   "cell_type": "code",
   "execution_count": 8,
   "id": "b87cc4e0-eb94-4e11-b31d-70fe6d3b0139",
   "metadata": {},
   "outputs": [],
   "source": [
    "positive_features = [(word_feats(pos), \"pos\") for pos in positive_vocab]\n",
    "negative_features = [(word_feats(neg), \"neg\") for neg in negative_vocab]\n",
    "neutral_features = [(word_feats(neu), \"neu\") for neu in neutral_vocab]"
   ]
  },
  {
   "cell_type": "code",
   "execution_count": 9,
   "id": "094c8088-423e-49cc-98d8-a96b10d63b8f",
   "metadata": {},
   "outputs": [],
   "source": [
    "train_set = negative_features + positive_features + neutral_features\n",
    "classifier = NaiveBayesClassifier.train(train_set)\n"
   ]
  },
  {
   "cell_type": "code",
   "execution_count": 20,
   "id": "32f14865-a540-447d-bd30-cc6f94361dc0",
   "metadata": {},
   "outputs": [],
   "source": [
    "neg = 0\n",
    "pos = 0\n",
    "neu = 0\n",
    "\n",
    "df[\"review\"] = df[\"review\"].astype(str).apply(lambda x: x.lower())\n",
    "words = df[\"review\"].apply(lambda x: x.split())\n"
   ]
  },
  {
   "cell_type": "code",
   "execution_count": 21,
   "id": "aa872a4a-9f73-4840-9e00-735190185e88",
   "metadata": {},
   "outputs": [
    {
     "name": "stdout",
     "output_type": "stream",
     "text": [
      "Positive: 1.0\n",
      "Negative: 0.0\n",
      "Neutral: 0.0\n"
     ]
    }
   ],
   "source": [
    "for word in words:\n",
    "    class_result = classifier.classify(word_feats(word))\n",
    "    if class_result == 'neg':\n",
    "        neg = neg + 1\n",
    "    if class_result == 'pos':\n",
    "        pos = pos + 1\n",
    "    if class_result == \"neu\":\n",
    "        neu = neu + 1\n",
    "print('Positive: ' + str(float(pos)/len(words)))\n",
    "\n",
    "print('Negative: ' + str(float(neg)/len(words)))\n",
    "\n",
    "print('Neutral: ' + str(float(neu)/len(words)))    "
   ]
  },
  {
   "cell_type": "code",
   "execution_count": null,
   "id": "366b23bf-7bbf-4922-ac4f-c83a3d797917",
   "metadata": {},
   "outputs": [],
   "source": []
  },
  {
   "cell_type": "code",
   "execution_count": null,
   "id": "afc739db-1f76-4a27-a611-68a2646c6882",
   "metadata": {},
   "outputs": [],
   "source": []
  },
  {
   "cell_type": "code",
   "execution_count": null,
   "id": "09789c23-282f-48fe-8bc1-70be66a96104",
   "metadata": {},
   "outputs": [],
   "source": []
  }
 ],
 "metadata": {
  "kernelspec": {
   "display_name": "Python 3 (ipykernel)",
   "language": "python",
   "name": "python3"
  },
  "language_info": {
   "codemirror_mode": {
    "name": "ipython",
    "version": 3
   },
   "file_extension": ".py",
   "mimetype": "text/x-python",
   "name": "python",
   "nbconvert_exporter": "python",
   "pygments_lexer": "ipython3",
   "version": "3.11.7"
  }
 },
 "nbformat": 4,
 "nbformat_minor": 5
}
